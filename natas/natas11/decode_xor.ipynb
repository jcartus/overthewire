{
 "cells": [
  {
   "cell_type": "code",
   "execution_count": 1,
   "metadata": {},
   "outputs": [],
   "source": [
    "import numpy as np"
   ]
  },
  {
   "cell_type": "code",
   "execution_count": 6,
   "metadata": {},
   "outputs": [
    {
     "data": {
      "text/plain": [
       "array([1, 0, 0])"
      ]
     },
     "execution_count": 6,
     "metadata": {},
     "output_type": "execute_result"
    }
   ],
   "source": [
    "def xor_decode(x, secret):\n",
    "    tmp = np.logical_xor(x.astype(bool), secret.astype(bool))\n",
    "    return np.array([1 if t else 0 for t in tmp ])\n",
    "    \n",
    "a  = np.array([1, 1, 1])\n",
    "secret = np.array([0, 1, 1])\n",
    "xor_decode(a, secret)"
   ]
  },
  {
   "cell_type": "code",
   "execution_count": 9,
   "metadata": {},
   "outputs": [
    {
     "data": {
      "text/plain": [
       "[1, 1, 1, 1, 1, 1, 1, 1, 1, 1, 1, 1, 1, 1, 1, 1, 1, 1, 1, 1, 1, 1, 1, 1]"
      ]
     },
     "execution_count": 9,
     "metadata": {},
     "output_type": "execute_result"
    }
   ],
   "source": [
    "def hex_byte_to_bits(hex_byte):\n",
    "    binary_byte = bin(int(hex_byte, base=16))\n",
    "    # Use zfill to pad the string with zeroes as we want all 8 digits of the byte.\n",
    "    bits_string = binary_byte[2:].zfill(8)\n",
    "    return [int(bit) for bit in bits_string]\n",
    "\n",
    "hex_byte_to_bits(hex_byte=\"ffffff\")"
   ]
  },
  {
   "cell_type": "code",
   "execution_count": null,
   "metadata": {},
   "outputs": [],
   "source": [
    "color = \"#ffffff\"\n",
    "cookie = "
   ]
  },
  {
   "cell_type": "markdown",
   "metadata": {},
   "source": [
    "###\n",
    "\n",
    "hash = data xor secret\n",
    "\n",
    "==> data xor hash = data xor data xor secret = "
   ]
  }
 ],
 "metadata": {
  "kernelspec": {
   "display_name": "Python 3",
   "language": "python",
   "name": "python3"
  },
  "language_info": {
   "codemirror_mode": {
    "name": "ipython",
    "version": 3
   },
   "file_extension": ".py",
   "mimetype": "text/x-python",
   "name": "python",
   "nbconvert_exporter": "python",
   "pygments_lexer": "ipython3",
   "version": "3.7.7"
  }
 },
 "nbformat": 4,
 "nbformat_minor": 4
}
